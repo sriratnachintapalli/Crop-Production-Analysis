{
 "cells": [
  {
   "cell_type": "markdown",
   "metadata": {},
   "source": [
    "# Dataset Cleaner"
   ]
  },
  {
   "cell_type": "markdown",
   "metadata": {},
   "source": [
    "Import the necessary libs"
   ]
  },
  {
   "cell_type": "code",
   "execution_count": 1,
   "metadata": {},
   "outputs": [],
   "source": [
    "import pandas as pd"
   ]
  },
  {
   "cell_type": "markdown",
   "metadata": {},
   "source": [
    "Load the dataset"
   ]
  },
  {
   "cell_type": "code",
   "execution_count": 2,
   "metadata": {},
   "outputs": [],
   "source": [
    "cpd = pd.read_csv(\"assets/Crop Production data.csv\")"
   ]
  },
  {
   "cell_type": "markdown",
   "metadata": {},
   "source": [
    "Display basic information about the dataset"
   ]
  },
  {
   "cell_type": "code",
   "execution_count": 3,
   "metadata": {},
   "outputs": [
    {
     "name": "stdout",
     "output_type": "stream",
     "text": [
      "<class 'pandas.core.frame.DataFrame'>\n",
      "RangeIndex: 246091 entries, 0 to 246090\n",
      "Data columns (total 7 columns):\n",
      " #   Column         Non-Null Count   Dtype  \n",
      "---  ------         --------------   -----  \n",
      " 0   State_Name     246091 non-null  object \n",
      " 1   District_Name  246091 non-null  object \n",
      " 2   Crop_Year      246091 non-null  int64  \n",
      " 3   Season         246091 non-null  object \n",
      " 4   Crop           246091 non-null  object \n",
      " 5   Area           246091 non-null  float64\n",
      " 6   Production     242361 non-null  float64\n",
      "dtypes: float64(2), int64(1), object(4)\n",
      "memory usage: 13.1+ MB\n",
      "None\n",
      "                    State_Name District_Name  Crop_Year       Season  \\\n",
      "0  Andaman and Nicobar Islands      NICOBARS       2000  Kharif        \n",
      "1  Andaman and Nicobar Islands      NICOBARS       2000  Kharif        \n",
      "2  Andaman and Nicobar Islands      NICOBARS       2000  Kharif        \n",
      "3  Andaman and Nicobar Islands      NICOBARS       2000  Whole Year    \n",
      "4  Andaman and Nicobar Islands      NICOBARS       2000  Whole Year    \n",
      "\n",
      "                  Crop    Area  Production  \n",
      "0             Arecanut  1254.0      2000.0  \n",
      "1  Other Kharif pulses     2.0         1.0  \n",
      "2                 Rice   102.0       321.0  \n",
      "3               Banana   176.0       641.0  \n",
      "4            Cashewnut   720.0       165.0  \n",
      "           Crop_Year          Area    Production\n",
      "count  246091.000000  2.460910e+05  2.423610e+05\n",
      "mean     2005.643018  1.200282e+04  5.825034e+05\n",
      "std         4.952164  5.052340e+04  1.706581e+07\n",
      "min      1997.000000  4.000000e-02  0.000000e+00\n",
      "25%      2002.000000  8.000000e+01  8.800000e+01\n",
      "50%      2006.000000  5.820000e+02  7.290000e+02\n",
      "75%      2010.000000  4.392000e+03  7.023000e+03\n",
      "max      2015.000000  8.580100e+06  1.250800e+09\n"
     ]
    }
   ],
   "source": [
    "print(cpd.info())\n",
    "print(cpd.head())\n",
    "print(cpd.describe())"
   ]
  },
  {
   "cell_type": "markdown",
   "metadata": {},
   "source": [
    "Check for missing values"
   ]
  },
  {
   "cell_type": "code",
   "execution_count": 4,
   "metadata": {},
   "outputs": [
    {
     "name": "stdout",
     "output_type": "stream",
     "text": [
      "State_Name          0\n",
      "District_Name       0\n",
      "Crop_Year           0\n",
      "Season              0\n",
      "Crop                0\n",
      "Area                0\n",
      "Production       3730\n",
      "dtype: int64\n"
     ]
    }
   ],
   "source": [
    "print(cpd.isnull().sum())"
   ]
  },
  {
   "cell_type": "markdown",
   "metadata": {},
   "source": [
    "Check for duplicates"
   ]
  },
  {
   "cell_type": "code",
   "execution_count": 5,
   "metadata": {},
   "outputs": [
    {
     "name": "stdout",
     "output_type": "stream",
     "text": [
      "0\n"
     ]
    }
   ],
   "source": [
    "print(cpd.duplicated().sum())"
   ]
  },
  {
   "cell_type": "markdown",
   "metadata": {},
   "source": [
    "Handle missing values by removing rows with missing values"
   ]
  },
  {
   "cell_type": "code",
   "execution_count": 6,
   "metadata": {},
   "outputs": [],
   "source": [
    "cpdc = cpd.dropna()"
   ]
  },
  {
   "cell_type": "markdown",
   "metadata": {},
   "source": [
    "Ensure correct data types using .loc"
   ]
  },
  {
   "cell_type": "code",
   "execution_count": 7,
   "metadata": {},
   "outputs": [],
   "source": [
    "cpdc.loc[:, \"Crop_Year\"] = cpdc[\"Crop_Year\"].astype(int)\n",
    "cpdc.loc[:, \"Area\"] = cpdc[\"Area\"].astype(float)\n",
    "cpdc.loc[:, \"Production\"] = cpdc[\"Production\"].astype(float)"
   ]
  },
  {
   "cell_type": "markdown",
   "metadata": {},
   "source": [
    "Remove duplicates"
   ]
  },
  {
   "cell_type": "code",
   "execution_count": 8,
   "metadata": {},
   "outputs": [],
   "source": [
    "cpdc = cpdc.drop_duplicates()"
   ]
  },
  {
   "cell_type": "markdown",
   "metadata": {},
   "source": [
    "Remove outliers beyond 1.5*IQR for 'Area' and 'Production'"
   ]
  },
  {
   "cell_type": "code",
   "execution_count": 9,
   "metadata": {},
   "outputs": [],
   "source": [
    "Q1_area = cpdc[\"Area\"].quantile(0.25)\n",
    "Q3_area = cpdc[\"Area\"].quantile(0.75)\n",
    "IQR_area = Q3_area - Q1_area\n",
    "\n",
    "Q1_prod = cpdc[\"Production\"].quantile(0.25)\n",
    "Q3_prod = cpdc[\"Production\"].quantile(0.75)\n",
    "IQR_prod = Q3_prod - Q1_prod\n",
    "\n",
    "cpdc = cpdc[\n",
    "    (cpdc[\"Area\"] >= (Q1_area - 1.5 * IQR_area))\n",
    "    & (cpdc[\"Area\"] <= (Q3_area + 1.5 * IQR_area))\n",
    "    & (cpdc[\"Production\"] >= (Q1_prod - 1.5 * IQR_prod))\n",
    "    & (cpdc[\"Production\"] <= (Q3_prod + 1.5 * IQR_prod))\n",
    "]"
   ]
  },
  {
   "cell_type": "markdown",
   "metadata": {},
   "source": [
    "Check the cleaned data"
   ]
  },
  {
   "cell_type": "code",
   "execution_count": 10,
   "metadata": {},
   "outputs": [
    {
     "name": "stdout",
     "output_type": "stream",
     "text": [
      "<class 'pandas.core.frame.DataFrame'>\n",
      "Index: 190741 entries, 0 to 246090\n",
      "Data columns (total 7 columns):\n",
      " #   Column         Non-Null Count   Dtype  \n",
      "---  ------         --------------   -----  \n",
      " 0   State_Name     190741 non-null  object \n",
      " 1   District_Name  190741 non-null  object \n",
      " 2   Crop_Year      190741 non-null  int64  \n",
      " 3   Season         190741 non-null  object \n",
      " 4   Crop           190741 non-null  object \n",
      " 5   Area           190741 non-null  float64\n",
      " 6   Production     190741 non-null  float64\n",
      "dtypes: float64(2), int64(1), object(4)\n",
      "memory usage: 11.6+ MB\n",
      "None\n",
      "           Crop_Year           Area     Production\n",
      "count  190741.000000  190741.000000  190741.000000\n",
      "mean     2005.697328    1208.483631    1565.447702\n",
      "std         4.931001    2080.811909    2896.547890\n",
      "min      1997.000000       0.100000       0.000000\n",
      "25%      2002.000000      50.000000      46.000000\n",
      "50%      2006.000000     277.000000     300.000000\n",
      "75%      2010.000000    1289.000000    1580.000000\n",
      "max      2015.000000   11231.000000   17420.000000\n"
     ]
    }
   ],
   "source": [
    "print(cpdc.info())\n",
    "print(cpdc.describe())"
   ]
  },
  {
   "cell_type": "markdown",
   "metadata": {},
   "source": [
    "Standardize categorical values using .loc (if necessary)"
   ]
  },
  {
   "cell_type": "code",
   "execution_count": 11,
   "metadata": {},
   "outputs": [],
   "source": [
    "cpdc.loc[:, \"State_Name\"] = cpdc[\"State_Name\"].str.strip().str.title()\n",
    "cpdc.loc[:, \"District_Name\"] = cpdc[\"District_Name\"].str.strip().str.title()\n",
    "cpdc.loc[:, \"Crop\"] = cpdc[\"Crop\"].str.strip().str.title()\n",
    "cpdc.loc[:, \"Season\"] = cpdc[\"Season\"].str.strip().str.title()"
   ]
  },
  {
   "cell_type": "markdown",
   "metadata": {},
   "source": [
    "Checking the missing values again"
   ]
  },
  {
   "cell_type": "code",
   "execution_count": 12,
   "metadata": {},
   "outputs": [
    {
     "data": {
      "text/plain": [
       "State_Name       0\n",
       "District_Name    0\n",
       "Crop_Year        0\n",
       "Season           0\n",
       "Crop             0\n",
       "Area             0\n",
       "Production       0\n",
       "dtype: int64"
      ]
     },
     "execution_count": 12,
     "metadata": {},
     "output_type": "execute_result"
    }
   ],
   "source": [
    "cpdc.isnull().sum()"
   ]
  },
  {
   "cell_type": "markdown",
   "metadata": {},
   "source": [
    "Save the cleaned dataset"
   ]
  },
  {
   "cell_type": "code",
   "execution_count": 13,
   "metadata": {},
   "outputs": [],
   "source": [
    "cpdc.to_csv(\"assets/cleaned_dataset.csv\", index=False, encoding=\"utf-8\")"
   ]
  }
 ],
 "metadata": {
  "kernelspec": {
   "display_name": "Python 3",
   "language": "python",
   "name": "python3"
  },
  "language_info": {
   "codemirror_mode": {
    "name": "ipython",
    "version": 3
   },
   "file_extension": ".py",
   "mimetype": "text/x-python",
   "name": "python",
   "nbconvert_exporter": "python",
   "pygments_lexer": "ipython3",
   "version": "3.11.0"
  }
 },
 "nbformat": 4,
 "nbformat_minor": 2
}
